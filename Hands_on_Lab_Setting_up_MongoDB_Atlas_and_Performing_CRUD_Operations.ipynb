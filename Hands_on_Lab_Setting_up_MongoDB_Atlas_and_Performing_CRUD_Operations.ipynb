{
  "nbformat": 4,
  "nbformat_minor": 0,
  "metadata": {
    "colab": {
      "provenance": []
    },
    "kernelspec": {
      "name": "python3",
      "display_name": "Python 3"
    },
    "language_info": {
      "name": "python"
    }
  },
  "cells": [
    {
      "cell_type": "markdown",
      "source": [
        "# **Hands-on Lab: Setting Up MongoDB Atlas and Performing CRUD Operations with Python**\n"
      ],
      "metadata": {
        "id": "bI57v_tGsI66"
      }
    },
    {
      "cell_type": "markdown",
      "source": [
        "# **Step 1: Setting Up MongoDB Atlas**\n",
        "\n",
        "MongoDB Atlas is a fully managed cloud service for MongoDB that simplifies the process of deploying and managing databases. Follow these steps to set up MongoDB Atlas, create a database, and connect to it using Python and PyMongo.\n",
        "\n",
        "**Step 1.1: Create a MongoDB Atlas Account**\n",
        "\n",
        "\n",
        "*   Go to the [MongoDB Atlas website](https://www.mongodb.com/cloud/atlas).\n",
        "*   Click on Start Free or Try Free to create a free account. You can use an email address or sign up with Google or GitHub.\n",
        "* After signing up, log in to the Atlas dashboard.\n",
        "\n",
        "**Step 1.2: Create a Cluster**\n",
        "\n",
        "* On the MongoDB Atlas dashboard, click Build a Cluster.\n",
        "* Choose the cloud provider and region (e.g., AWS, Google Cloud, or Azure). For a free-tier account, the cluster options are limited, but the free tier is sufficient for most development needs.\n",
        "* Choose the cluster tier. For free-tier accounts, the M0 Sandbox tier is selected.\n",
        "* Click Create Cluster. This may take a few minutes to complete.\n",
        "\n",
        "**Step 1.3: Create a Database User**\n",
        "\n",
        "* Once the cluster is created, click Database Access in the left-side menu.\n",
        "* Click Add New Database User.\n",
        "* Create a username and password for the user that will connect to the MongoDB database. Keep these credentials secure as they will be used in your connection string.\n",
        "* Ensure that the role is set to Atlas Admin or another appropriate role for managing the database.\n",
        "\n",
        "**Step 1.4: Whitelist Your IP Address**\n",
        "\n",
        "* Click on Network Access from the left-side menu.\n",
        "* Click Add IP Address and choose Allow Access from Anywhere to connect from any IP address or add a specific IP address range.\n",
        "* Save your settings.\n",
        "\n",
        "**Step 1.5: Get the Connection String**\n",
        "\n",
        "* Go to Clusters on the Atlas dashboard.\n",
        "* Click Connect next to your cluster.\n",
        "\n",
        "* Choose Connect Your Application.\n",
        "\n",
        "* A connection string will be provided. Copy this connection string and replace <password> with the password for the database user you created earlier.\n",
        "\n",
        "**Example Connection String:**\n",
        "\n",
        "mongodb+srv://<username>:<password>@cluster0.mongodb.net/<dbname>?retryWrites=true&w=majority\n",
        "\n",
        "Now that your MongoDB Atlas cluster is set up, you can connect to it using Python.\n",
        "\n",
        "You can check the free online course from MongoDB: [Getting Started with MongoDB Atlas](https://learn.mongodb.com/learn/course/getting-started-with-mongodb-atlas)"
      ],
      "metadata": {
        "id": "3uhbPXXnsO3e"
      }
    },
    {
      "cell_type": "markdown",
      "source": [
        "# **Step 2: Perform CRUD Operations Using Python (PyMongo)**\n",
        "\n",
        "Once the MongoDB Atlas cluster is set up, we will use PyMongo, a Python library, to connect to the MongoDB Atlas database and perform CRUD operations.\n",
        "\n",
        "**Step 2.1: Install PyMongo**\n",
        "\n",
        "You will need to install the PyMongo package if you haven't already."
      ],
      "metadata": {
        "id": "NE0YcNmsvJbL"
      }
    },
    {
      "cell_type": "code",
      "source": [
        "pip install pymongo\n"
      ],
      "metadata": {
        "id": "y_wl3U2mv6DP"
      },
      "execution_count": null,
      "outputs": []
    },
    {
      "cell_type": "markdown",
      "source": [
        "**Step 2.2: Connect to MongoDB Atlas**\n",
        "\n",
        "Start by importing the required library and connecting to the MongoDB Atlas database."
      ],
      "metadata": {
        "id": "SicnIah-wLwj"
      }
    },
    {
      "cell_type": "code",
      "source": [
        "from pymongo import MongoClient\n",
        "\n",
        "# Replace with your own connection string\n",
        "connection_string = \"mongodb+srv://<username>:<password>@cluster0.mongodb.net/myFirstDatabase?retryWrites=true&w=majority\"\n",
        "\n",
        "# Connect to the MongoDB Atlas cluster\n",
        "client = MongoClient(connection_string)\n",
        "\n",
        "# Access a specific database\n",
        "db = client['mydatabase']\n",
        "\n",
        "# Access a collection within the database\n",
        "collection = db['users']\n"
      ],
      "metadata": {
        "id": "2oyobL85wSAI"
      },
      "execution_count": null,
      "outputs": []
    },
    {
      "cell_type": "markdown",
      "source": [
        "**Step 2.3: Insert Documents (Create)**\n",
        "\n",
        "Now, let's insert some sample documents into the users collection using the insert_one() and insert_many() methods."
      ],
      "metadata": {
        "id": "TTx2TruawXbp"
      }
    },
    {
      "cell_type": "code",
      "source": [
        "# Insert a single document\n",
        "user_1 = {\"name\": \"Alice\", \"email\": \"alice@example.com\", \"age\": 28}\n",
        "collection.insert_one(user_1)\n",
        "\n",
        "# Insert multiple documents\n",
        "users = [\n",
        "    {\"name\": \"Bob\", \"email\": \"bob@example.com\", \"age\": 35},\n",
        "    {\"name\": \"Charlie\", \"email\": \"charlie@example.com\", \"age\": 30}\n",
        "]\n",
        "collection.insert_many(users)\n"
      ],
      "metadata": {
        "id": "XTOI8TgNwfRJ"
      },
      "execution_count": null,
      "outputs": []
    },
    {
      "cell_type": "markdown",
      "source": [
        "**Step 2.4: Query Documents (Read)**\n",
        "\n",
        "Retrieve documents from the MongoDB collection using the find() method."
      ],
      "metadata": {
        "id": "rNJQDQDwwiQt"
      }
    },
    {
      "cell_type": "code",
      "source": [
        "# Find all documents\n",
        "for user in collection.find():\n",
        "    print(user)\n",
        "\n",
        "# Find documents where age is greater than 30\n",
        "for user in collection.find({\"age\": {\"$gt\": 30}}):\n",
        "    print(user)\n"
      ],
      "metadata": {
        "id": "_dAEbsTGwqNq"
      },
      "execution_count": null,
      "outputs": []
    },
    {
      "cell_type": "markdown",
      "source": [
        "**Step 2.5: Update Documents (Update)**\n",
        "\n",
        "Update documents in the collection using the update_one() and update_many() methods."
      ],
      "metadata": {
        "id": "WI_z6ibjwxc3"
      }
    },
    {
      "cell_type": "code",
      "source": [
        "# Update Alice's email address\n",
        "collection.update_one({\"name\": \"Alice\"}, {\"$set\": {\"email\": \"alice_new@example.com\"}})\n",
        "\n",
        "# Increment the age of all users by 1\n",
        "collection.update_many({}, {\"$inc\": {\"age\": 1}})\n"
      ],
      "metadata": {
        "id": "rWJvh9W_w3wt"
      },
      "execution_count": null,
      "outputs": []
    },
    {
      "cell_type": "markdown",
      "source": [
        "**Step 2.6: Delete Documents (Delete)**\n",
        "\n",
        "Delete documents from the collection using the delete_one() and delete_many() methods."
      ],
      "metadata": {
        "id": "NMxZzSnVw7Eq"
      }
    },
    {
      "cell_type": "code",
      "source": [
        "# Delete a single document\n",
        "collection.delete_one({\"name\": \"Alice\"})\n",
        "\n",
        "# Delete all users older than 30\n",
        "collection.delete_many({\"age\": {\"$gt\": 30}})\n"
      ],
      "metadata": {
        "id": "6mHeXuCzxAmK"
      },
      "execution_count": null,
      "outputs": []
    },
    {
      "cell_type": "markdown",
      "source": [
        "# **Conclusion**\n",
        "\n",
        "In this hands-on lab, you successfully:\n",
        "\n",
        "* Set up a MongoDB Atlas cluster and created a database.\n",
        "* Connected to the database using Python’s PyMongo library.\n",
        "* Performed essential CRUD operations (Create, Read, Update, Delete) on the MongoDB Atlas database using Python.\n",
        "\n",
        "By working with MongoDB in the cloud through Atlas, you now have a solid understanding of how to interact with modern NoSQL databases, which is crucial for handling large-scale and flexible data models."
      ],
      "metadata": {
        "id": "TSUvMDDqusRZ"
      }
    }
  ]
}